{
  "nbformat": 4,
  "nbformat_minor": 0,
  "metadata": {
    "colab": {
      "name": "employee _sal_stats.ipynb",
      "provenance": [],
      "toc_visible": true,
      "mount_file_id": "15QPurKv_mpVHBGWgxICKqpMamaqjlqKD",
      "authorship_tag": "ABX9TyPc3aXTX47jiEMHgl1sehYY",
      "include_colab_link": true
    },
    "kernelspec": {
      "name": "python3",
      "display_name": "Python 3"
    }
  },
  "cells": [
    {
      "cell_type": "markdown",
      "metadata": {
        "id": "view-in-github",
        "colab_type": "text"
      },
      "source": [
        "<a href=\"https://colab.research.google.com/github/aruna-1985/Numpy/blob/master/employee__sal_stats.ipynb\" target=\"_parent\"><img src=\"https://colab.research.google.com/assets/colab-badge.svg\" alt=\"Open In Colab\"/></a>"
      ]
    },
    {
      "cell_type": "code",
      "metadata": {
        "id": "srZs1LXfQvoR",
        "colab_type": "code",
        "colab": {}
      },
      "source": [
        "import statistics"
      ],
      "execution_count": 1,
      "outputs": []
    },
    {
      "cell_type": "code",
      "metadata": {
        "id": "ZBfmIen6Q2US",
        "colab_type": "code",
        "colab": {}
      },
      "source": [
        "from statistics import *"
      ],
      "execution_count": 2,
      "outputs": []
    },
    {
      "cell_type": "code",
      "metadata": {
        "id": "JeaAwYzZQ6-Q",
        "colab_type": "code",
        "colab": {
          "base_uri": "https://localhost:8080/",
          "height": 34
        },
        "outputId": "fbb54dde-016c-4791-8d3b-925ef27ea4e2"
      },
      "source": [
        "mean([10,20,30,40,50,60])"
      ],
      "execution_count": 3,
      "outputs": [
        {
          "output_type": "execute_result",
          "data": {
            "text/plain": [
              "35"
            ]
          },
          "metadata": {
            "tags": []
          },
          "execution_count": 3
        }
      ]
    },
    {
      "cell_type": "code",
      "metadata": {
        "id": "4_X1o5H7Q-AZ",
        "colab_type": "code",
        "colab": {
          "base_uri": "https://localhost:8080/",
          "height": 34
        },
        "outputId": "57714598-68ca-41dc-8076-e11d643a487a"
      },
      "source": [
        "mode([1,2,34,65,87,20,65])"
      ],
      "execution_count": 4,
      "outputs": [
        {
          "output_type": "execute_result",
          "data": {
            "text/plain": [
              "65"
            ]
          },
          "metadata": {
            "tags": []
          },
          "execution_count": 4
        }
      ]
    },
    {
      "cell_type": "code",
      "metadata": {
        "id": "hXAyYv-AQ_g_",
        "colab_type": "code",
        "colab": {
          "base_uri": "https://localhost:8080/",
          "height": 34
        },
        "outputId": "16bd699e-9808-4c94-ee5d-672747658ece"
      },
      "source": [
        "median([10,20,30,40,50,60])"
      ],
      "execution_count": 5,
      "outputs": [
        {
          "output_type": "execute_result",
          "data": {
            "text/plain": [
              "35.0"
            ]
          },
          "metadata": {
            "tags": []
          },
          "execution_count": 5
        }
      ]
    },
    {
      "cell_type": "code",
      "metadata": {
        "id": "o6vW8roURI_Q",
        "colab_type": "code",
        "colab": {
          "base_uri": "https://localhost:8080/",
          "height": 34
        },
        "outputId": "c2b6c6d7-834a-42cf-e336-de4b28c9ed21"
      },
      "source": [
        "pstdev([2.5,3.45,2.75,5.5,9.5])"
      ],
      "execution_count": 6,
      "outputs": [
        {
          "output_type": "execute_result",
          "data": {
            "text/plain": [
              "2.6029598537050087"
            ]
          },
          "metadata": {
            "tags": []
          },
          "execution_count": 6
        }
      ]
    },
    {
      "cell_type": "code",
      "metadata": {
        "id": "-qkP2byIRJKG",
        "colab_type": "code",
        "colab": {
          "base_uri": "https://localhost:8080/",
          "height": 34
        },
        "outputId": "dfc498e8-553e-4bfd-9df6-5c9c28409d64"
      },
      "source": [
        "stdev([2.5,3.45,2.75,5.5,9.5])"
      ],
      "execution_count": 7,
      "outputs": [
        {
          "output_type": "execute_result",
          "data": {
            "text/plain": [
              "2.910197587793654"
            ]
          },
          "metadata": {
            "tags": []
          },
          "execution_count": 7
        }
      ]
    },
    {
      "cell_type": "code",
      "metadata": {
        "id": "MU0x3dK4RJWO",
        "colab_type": "code",
        "colab": {}
      },
      "source": [
        "import numpy as np \n",
        "import pandas as pd"
      ],
      "execution_count": 8,
      "outputs": []
    },
    {
      "cell_type": "code",
      "metadata": {
        "id": "8O4_xo71RXkW",
        "colab_type": "code",
        "colab": {}
      },
      "source": [
        "np.random.seed(62)"
      ],
      "execution_count": 9,
      "outputs": []
    },
    {
      "cell_type": "code",
      "metadata": {
        "id": "qzdhjywJRaz9",
        "colab_type": "code",
        "colab": {}
      },
      "source": [
        "normal_male_sal = np.random.normal(loc = 82, scale = 8,size =6000)\n",
        "normal_female_sal = np.random.normal(loc= 70,scale =6,size = 6500)"
      ],
      "execution_count": 11,
      "outputs": []
    },
    {
      "cell_type": "code",
      "metadata": {
        "id": "e9mWj4_GRb_5",
        "colab_type": "code",
        "colab": {}
      },
      "source": [
        "all_salaries = np.concatenate((normal_male_sal,normal_female_sal),axis = 0)"
      ],
      "execution_count": 12,
      "outputs": []
    },
    {
      "cell_type": "code",
      "metadata": {
        "id": "U_y8r5pGRcYo",
        "colab_type": "code",
        "colab": {}
      },
      "source": [
        "df_ppl_mass = pd.DataFrame(data = {'salaries_sal':all_salaries})"
      ],
      "execution_count": 13,
      "outputs": []
    },
    {
      "cell_type": "code",
      "metadata": {
        "id": "NdAYx_OlRoI_",
        "colab_type": "code",
        "colab": {
          "base_uri": "https://localhost:8080/",
          "height": 204
        },
        "outputId": "1ded4035-0cef-49cd-8037-1084d83db3a3"
      },
      "source": [
        "df_ppl_mass.head()"
      ],
      "execution_count": 14,
      "outputs": [
        {
          "output_type": "execute_result",
          "data": {
            "text/html": [
              "<div>\n",
              "<style scoped>\n",
              "    .dataframe tbody tr th:only-of-type {\n",
              "        vertical-align: middle;\n",
              "    }\n",
              "\n",
              "    .dataframe tbody tr th {\n",
              "        vertical-align: top;\n",
              "    }\n",
              "\n",
              "    .dataframe thead th {\n",
              "        text-align: right;\n",
              "    }\n",
              "</style>\n",
              "<table border=\"1\" class=\"dataframe\">\n",
              "  <thead>\n",
              "    <tr style=\"text-align: right;\">\n",
              "      <th></th>\n",
              "      <th>salaries_sal</th>\n",
              "    </tr>\n",
              "  </thead>\n",
              "  <tbody>\n",
              "    <tr>\n",
              "      <th>0</th>\n",
              "      <td>66.334748</td>\n",
              "    </tr>\n",
              "    <tr>\n",
              "      <th>1</th>\n",
              "      <td>67.074769</td>\n",
              "    </tr>\n",
              "    <tr>\n",
              "      <th>2</th>\n",
              "      <td>90.740878</td>\n",
              "    </tr>\n",
              "    <tr>\n",
              "      <th>3</th>\n",
              "      <td>83.414959</td>\n",
              "    </tr>\n",
              "    <tr>\n",
              "      <th>4</th>\n",
              "      <td>83.127746</td>\n",
              "    </tr>\n",
              "  </tbody>\n",
              "</table>\n",
              "</div>"
            ],
            "text/plain": [
              "   salaries_sal\n",
              "0     66.334748\n",
              "1     67.074769\n",
              "2     90.740878\n",
              "3     83.414959\n",
              "4     83.127746"
            ]
          },
          "metadata": {
            "tags": []
          },
          "execution_count": 14
        }
      ]
    },
    {
      "cell_type": "code",
      "metadata": {
        "id": "4TB0gPIzRvdn",
        "colab_type": "code",
        "colab": {
          "base_uri": "https://localhost:8080/",
          "height": 71
        },
        "outputId": "0e0d5584-252e-4e96-9e99-5c20d211e9be"
      },
      "source": [
        "import matplotlib.pyplot as plt \n",
        "import seaborn as sns"
      ],
      "execution_count": 15,
      "outputs": [
        {
          "output_type": "stream",
          "text": [
            "/usr/local/lib/python3.6/dist-packages/statsmodels/tools/_testing.py:19: FutureWarning: pandas.util.testing is deprecated. Use the functions in the public API at pandas.testing instead.\n",
            "  import pandas.util.testing as tm\n"
          ],
          "name": "stderr"
        }
      ]
    },
    {
      "cell_type": "code",
      "metadata": {
        "id": "cedFRXGqR1P3",
        "colab_type": "code",
        "colab": {
          "base_uri": "https://localhost:8080/",
          "height": 312
        },
        "outputId": "8f4544ba-043b-4590-ce1d-f195fa2cb24f"
      },
      "source": [
        "sns.distplot(df_ppl_mass,color = \"green\")\n",
        "plt.xlabel(\"salaries in sal\")\n",
        "plt.ylabel(\"Probability of the occurences\")\n",
        "plt.title(\"Distribution of People salaries in sal\")"
      ],
      "execution_count": 20,
      "outputs": [
        {
          "output_type": "execute_result",
          "data": {
            "text/plain": [
              "Text(0.5, 1.0, 'Distribution of People salaries in sal')"
            ]
          },
          "metadata": {
            "tags": []
          },
          "execution_count": 20
        },
        {
          "output_type": "display_data",
          "data": {
            "image/png": "[encoded data removed]",
            "text/plain": [
              "<Figure size 432x288 with 1 Axes>"
            ]
          },
          "metadata": {
            "tags": [],
            "needs_background": "light"
          }
        }
      ]
    },
    {
      "cell_type": "code",
      "metadata": {
        "id": "xfbbH8fsR1UF",
        "colab_type": "code",
        "colab": {
          "base_uri": "https://localhost:8080/",
          "height": 34
        },
        "outputId": "a2c5e064-a625-42b8-b730-36e2f62cf316"
      },
      "source": [
        "pop_mean_sal = df_ppl_mass['salaries_sal'].mean()\n",
        "pop_mean_sal"
      ],
      "execution_count": 21,
      "outputs": [
        {
          "output_type": "execute_result",
          "data": {
            "text/plain": [
              "75.74392807311679"
            ]
          },
          "metadata": {
            "tags": []
          },
          "execution_count": 21
        }
      ]
    },
    {
      "cell_type": "code",
      "metadata": {
        "id": "2IJ0AS54Si0N",
        "colab_type": "code",
        "colab": {
          "base_uri": "https://localhost:8080/",
          "height": 34
        },
        "outputId": "15184660-49da-4229-80be-cb90f2d6c9ca"
      },
      "source": [
        "pop_std_dev_sal = df_ppl_mass['salaries_sal'].std()\n",
        "pop_std_dev_sal"
      ],
      "execution_count": 22,
      "outputs": [
        {
          "output_type": "execute_result",
          "data": {
            "text/plain": [
              "9.318380423593398"
            ]
          },
          "metadata": {
            "tags": []
          },
          "execution_count": 22
        }
      ]
    },
    {
      "cell_type": "code",
      "metadata": {
        "id": "_i8KEfbRSvs8",
        "colab_type": "code",
        "colab": {}
      },
      "source": [
        "## Taking Random Samples from the population \n",
        "sample_means = []\n",
        "n = 45\n",
        "for sample in range(0,500):\n",
        "    #Random choice with replacement\n",
        "    sample_values = np.random.choice(a = df_ppl_mass['salaries_sal'],size = n)\n",
        "    sample_mean = np.mean(sample_values)\n",
        "    sample_means.append(sample_mean)"
      ],
      "execution_count": 24,
      "outputs": []
    },
    {
      "cell_type": "code",
      "metadata": {
        "id": "FKvPb6A-S_ba",
        "colab_type": "code",
        "colab": {
          "base_uri": "https://localhost:8080/",
          "height": 314
        },
        "outputId": "f17ff017-c48f-4768-fe7f-bc3e34019489"
      },
      "source": [
        "sns.distplot(sample_means)\n",
        "plt.title(\"Distribution of the Sample Means $(n=45)$ people\")\n",
        "plt.xlabel(\"salaries of Sample means (sal)\")\n",
        "plt.ylabel(\"Frequency of occurence\")"
      ],
      "execution_count": 25,
      "outputs": [
        {
          "output_type": "execute_result",
          "data": {
            "text/plain": [
              "Text(0, 0.5, 'Frequency of occurence')"
            ]
          },
          "metadata": {
            "tags": []
          },
          "execution_count": 25
        },
        {
          "output_type": "display_data",
          "data": {
            "image/png": "[encoded data removed]",
            "text/plain": [
              "<Figure size 432x288 with 1 Axes>"
            ]
          },
          "metadata": {
            "tags": [],
            "needs_background": "light"
          }
        }
      ]
    },
    {
      "cell_type": "code",
      "metadata": {
        "id": "kjABOkv6TUM9",
        "colab_type": "code",
        "colab": {
          "base_uri": "https://localhost:8080/",
          "height": 34
        },
        "outputId": "e67820b6-3f64-4785-fc09-0097447b5cd4"
      },
      "source": [
        "median_of_sample = np.median(sample_means)\n",
        "median_of_sample"
      ],
      "execution_count": 26,
      "outputs": [
        {
          "output_type": "execute_result",
          "data": {
            "text/plain": [
              "75.71850509577952"
            ]
          },
          "metadata": {
            "tags": []
          },
          "execution_count": 26
        }
      ]
    },
    {
      "cell_type": "code",
      "metadata": {
        "id": "FT8xawqATX3-",
        "colab_type": "code",
        "colab": {
          "base_uri": "https://localhost:8080/",
          "height": 34
        },
        "outputId": "5c155c8f-92bc-4eb5-bf38-0803428d6661"
      },
      "source": [
        "mean_of_sample = np.mean(sample_means)\n",
        "mean_of_sample"
      ],
      "execution_count": 27,
      "outputs": [
        {
          "output_type": "execute_result",
          "data": {
            "text/plain": [
              "75.71078538074352"
            ]
          },
          "metadata": {
            "tags": []
          },
          "execution_count": 27
        }
      ]
    },
    {
      "cell_type": "code",
      "metadata": {
        "id": "kg-HiYsWTcIc",
        "colab_type": "code",
        "colab": {
          "base_uri": "https://localhost:8080/",
          "height": 51
        },
        "outputId": "eb6efd2f-7767-4dbd-daea-ea2a4779c929"
      },
      "source": [
        "print(\"The population mean is\",pop_mean_sal)\n",
        "print(\"The sample mean is:\",mean_of_sample)"
      ],
      "execution_count": 28,
      "outputs": [
        {
          "output_type": "stream",
          "text": [
            "The population mean is 75.74392807311679\n",
            "The sample mean is: 75.71078538074352\n"
          ],
          "name": "stdout"
        }
      ]
    },
    {
      "cell_type": "code",
      "metadata": {
        "id": "w3TgYX8STcNf",
        "colab_type": "code",
        "colab": {
          "base_uri": "https://localhost:8080/",
          "height": 34
        },
        "outputId": "2a2c508b-a1a9-40f8-bda3-d5b189cb3435"
      },
      "source": [
        "std_dev_of_sample = np.std(sample_means)\n",
        "std_dev_of_sample"
      ],
      "execution_count": 29,
      "outputs": [
        {
          "output_type": "execute_result",
          "data": {
            "text/plain": [
              "1.3504940328845725"
            ]
          },
          "metadata": {
            "tags": []
          },
          "execution_count": 29
        }
      ]
    },
    {
      "cell_type": "code",
      "metadata": {
        "id": "t15YmiQWTcR6",
        "colab_type": "code",
        "colab": {
          "base_uri": "https://localhost:8080/",
          "height": 34
        },
        "outputId": "be133f0a-6cec-46c0-9b12-89b183f7e0fa"
      },
      "source": [
        "standard_error = pop_std_dev_sal/np.sqrt(n)\n",
        "standard_error"
      ],
      "execution_count": 30,
      "outputs": [
        {
          "output_type": "execute_result",
          "data": {
            "text/plain": [
              "1.3891021378238748"
            ]
          },
          "metadata": {
            "tags": []
          },
          "execution_count": 30
        }
      ]
    },
    {
      "cell_type": "code",
      "metadata": {
        "id": "v1FbbMNETxco",
        "colab_type": "code",
        "colab": {}
      },
      "source": [
        "employee_sample_mean = 75"
      ],
      "execution_count": 31,
      "outputs": []
    },
    {
      "cell_type": "code",
      "metadata": {
        "id": "ToHvW1aDTxgb",
        "colab_type": "code",
        "colab": {
          "base_uri": "https://localhost:8080/",
          "height": 314
        },
        "outputId": "298f8d08-7d8a-43a7-e1b1-ecbc1997ff01"
      },
      "source": [
        "sns.distplot(sample_means)\n",
        "plt.title(\"Distribution of the Sample Means $(n=45)$ people\")\n",
        "plt.xlabel(\"salaries of Sample means (sal)\")\n",
        "plt.ylabel(\"Frequency of occurence\")\n",
        "plt.axvline(x =employee_sample_mean,linestyle = '--',linewidth = 4.5,label = 'Mean of people who go to employee',c = 'orange')\n",
        "plt.legend()"
      ],
      "execution_count": 33,
      "outputs": [
        {
          "output_type": "execute_result",
          "data": {
            "text/plain": [
              "<matplotlib.legend.Legend at 0x7fc53218b208>"
            ]
          },
          "metadata": {
            "tags": []
          },
          "execution_count": 33
        },
        {
          "output_type": "display_data",
          "data": {
            "image/png": "[encoded data removed]",
            "text/plain": [
              "<Figure size 432x288 with 1 Axes>"
            ]
          },
          "metadata": {
            "tags": [],
            "needs_background": "light"
          }
        }
      ]
    },
    {
      "cell_type": "code",
      "metadata": {
        "id": "LHqWAkNxTxkp",
        "colab_type": "code",
        "colab": {
          "base_uri": "https://localhost:8080/",
          "height": 34
        },
        "outputId": "83e710c6-0aac-4886-f586-bfb17fe02d8d"
      },
      "source": [
        "z_score = (employee_sample_mean - mean_of_sample)/standard_error\n",
        "z_score"
      ],
      "execution_count": 34,
      "outputs": [
        {
          "output_type": "execute_result",
          "data": {
            "text/plain": [
              "-0.5116869101195187"
            ]
          },
          "metadata": {
            "tags": []
          },
          "execution_count": 34
        }
      ]
    },
    {
      "cell_type": "code",
      "metadata": {
        "id": "UKZ3T5BnUcUi",
        "colab_type": "code",
        "colab": {
          "base_uri": "https://localhost:8080/",
          "height": 34
        },
        "outputId": "46873d4c-35ed-4f10-bbc2-fc9f63e697c6"
      },
      "source": [
        "import scipy.stats as stats\n",
        "prop_less_than_employee_mean = round(stats.norm.cdf(z_score),3)\n",
        "prop_less_than_employee_mean"
      ],
      "execution_count": 35,
      "outputs": [
        {
          "output_type": "execute_result",
          "data": {
            "text/plain": [
              "0.304"
            ]
          },
          "metadata": {
            "tags": []
          },
          "execution_count": 35
        }
      ]
    },
    {
      "cell_type": "code",
      "metadata": {
        "id": "WMTHoMOzUqme",
        "colab_type": "code",
        "colab": {
          "base_uri": "https://localhost:8080/",
          "height": 314
        },
        "outputId": "9e8559db-1d6f-4191-c0f8-8a34f1622c2d"
      },
      "source": [
        "kde = stats.gaussian_kde(sample_means)\n",
        "pos = np.linspace(np.min(sample_means),np.max(sample_means),1000)\n",
        "plt.plot(pos,kde(pos),color = \"Teal\")\n",
        "shade = np.linspace(70,employee_sample_mean,300)\n",
        "plt.fill_between(shade,kde(shade),alpha = 0.45,color = 'Red')\n",
        "\n",
        "plt.title(\"Distribution of the Sample Means $(n=45)$ people\")\n",
        "plt.xlabel(\"salaries of Sample means (sal)\")\n",
        "plt.ylabel(\"Frequency of occurence\")"
      ],
      "execution_count": 38,
      "outputs": [
        {
          "output_type": "execute_result",
          "data": {
            "text/plain": [
              "Text(0, 0.5, 'Frequency of occurence')"
            ]
          },
          "metadata": {
            "tags": []
          },
          "execution_count": 38
        },
        {
          "output_type": "display_data",
          "data": {
            "image/png": "[encoded data removed]",
            "text/plain": [
              "<Figure size 432x288 with 1 Axes>"
            ]
          },
          "metadata": {
            "tags": [],
            "needs_background": "light"
          }
        }
      ]
    },
    {
      "cell_type": "markdown",
      "metadata": {
        "id": "CF6G4eV2XEJB",
        "colab_type": "text"
      },
      "source": [
        "# New Section"
      ]
    }
  ]
}